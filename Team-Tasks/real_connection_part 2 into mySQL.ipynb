{
  "nbformat": 4,
  "nbformat_minor": 0,
  "metadata": {
    "colab": {
      "provenance": [],
      "authorship_tag": "ABX9TyPz0as6xE0tNqi2nasTAGiP",
      "include_colab_link": true
    },
    "kernelspec": {
      "name": "python3",
      "display_name": "Python 3"
    },
    "language_info": {
      "name": "python"
    }
  },
  "cells": [
    {
      "cell_type": "markdown",
      "metadata": {
        "id": "view-in-github",
        "colab_type": "text"
      },
      "source": [
        "<a href=\"https://colab.research.google.com/github/christiane-villaroel/credit-card-fraud-detection/blob/main/real_connection_part%202%20into%20mySQL.ipynb\" target=\"_parent\"><img src=\"https://colab.research.google.com/assets/colab-badge.svg\" alt=\"Open In Colab\"/></a>"
      ]
    },
    {
      "cell_type": "code",
      "execution_count": 1,
      "metadata": {
        "colab": {
          "base_uri": "https://localhost:8080/"
        },
        "id": "omvnd_9B9QrY",
        "outputId": "e4f01595-f867-4646-e13a-991b2d34b34c"
      },
      "outputs": [
        {
          "output_type": "stream",
          "name": "stdout",
          "text": [
            "Requirement already satisfied: mysql-connector-python in /usr/local/lib/python3.10/dist-packages (9.0.0)\n"
          ]
        }
      ],
      "source": [
        "!pip install mysql-connector-python\n"
      ]
    },
    {
      "cell_type": "code",
      "source": [
        "import mysql.connector\n",
        "from mysql.connector import Error\n",
        "import pandas as pd\n",
        "\n"
      ],
      "metadata": {
        "id": "yGTLrSDQ9YlD"
      },
      "execution_count": 2,
      "outputs": []
    },
    {
      "cell_type": "code",
      "source": [
        "config = {\n",
        "    'host': 'localhost',\n",
        "    'user': 'root',\n",
        "    'password': 'Andrewcool318',\n",
        "    'database': 'dailytest'\n",
        "}"
      ],
      "metadata": {
        "id": "OA44JLI79c9U"
      },
      "execution_count": 3,
      "outputs": []
    },
    {
      "cell_type": "code",
      "source": [
        "csv_file_path = '/content/cleaned_data2.0.csv'\n"
      ],
      "metadata": {
        "id": "Y9JX3Jw3AYd2"
      },
      "execution_count": 4,
      "outputs": []
    },
    {
      "cell_type": "code",
      "source": [
        "# Sample column definitions based on the CSV file\n",
        "column_definitions = {\n",
        "    'step': 'INT',\n",
        "    'type': 'VARCHAR(255)',\n",
        "    'amount': 'FLOAT',\n",
        "    'nameOrig': 'VARCHAR(255)',\n",
        "    'oldbalanceOrg': 'FLOAT',\n",
        "    'newbalanceOrig': 'FLOAT',\n",
        "    'nameDest': 'VARCHAR(255)',\n",
        "    'oldbalanceDest': 'FLOAT',\n",
        "    'newbalanceDest': 'FLOAT',\n",
        "    'isFraud': 'INT',\n",
        "    'isFlaggedFraud': 'INT'\n",
        "}\n"
      ],
      "metadata": {
        "id": "pQG-ZEhF-c_S"
      },
      "execution_count": 5,
      "outputs": []
    },
    {
      "cell_type": "code",
      "source": [
        "# Create the table creation SQL query\n",
        "def create_table_query(table_name, columns):\n",
        "    cols = \",\\n\".join([f\"{col_name} {data_type}\" for col_name, data_type in columns.items()])\n",
        "    query = f\"CREATE TABLE IF NOT EXISTS {table_name} (\\n{cols}\\n);\"\n",
        "    return query\n"
      ],
      "metadata": {
        "id": "K9PaxhUvU4ao"
      },
      "execution_count": 6,
      "outputs": []
    },
    {
      "cell_type": "code",
      "source": [
        "df = pd.read_csv(csv_file_path)"
      ],
      "metadata": {
        "id": "TyTQiP1GWEIO"
      },
      "execution_count": 7,
      "outputs": []
    },
    {
      "cell_type": "code",
      "source": [
        "# Connect to MySQL database\n",
        "try:\n",
        "    connection = mysql.connector.connect(**config)\n",
        "    cursor = connection.cursor()\n",
        "\n",
        "    # Create the table\n",
        "    table_name = 'log_data'\n",
        "    query = create_table_query(table_name, column_definitions)\n",
        "    cursor.execute(query)\n",
        "\n",
        "    # Insert DataFrame into MySQL table using batch inserts\n",
        "    batch_size = 1000  # You can adjust this batch size based on your memory capacity and performance\n",
        "    for start in range(0, len(df), batch_size):\n",
        "        end = start + batch_size\n",
        "        batch = df.iloc[start:end]\n",
        "\n",
        "        insert_query = f\"\"\"\n",
        "        INSERT INTO {table_name} ({', '.join(column_definitions.keys())})\n",
        "        VALUES ({', '.join(['%s'] * len(column_definitions))});\n",
        "        \"\"\"\n",
        "\n",
        "        cursor.executemany(insert_query, [tuple(row) for row in batch.itertuples(index=False, name=None)])\n",
        "\n",
        "    connection.commit()\n",
        "\n",
        "except Error as e:\n",
        "    print(f\"Error: {e}\")\n",
        "finally:\n",
        "    if 'connection' in locals() and connection.is_connected():\n",
        "        cursor.close()\n",
        "        connection.close()\n",
        "print(\"CSV data has been imported into MySQL database successfully.\")\n"
      ],
      "metadata": {
        "colab": {
          "base_uri": "https://localhost:8080/"
        },
        "id": "szfWTBIuWIIC",
        "outputId": "2077ff64-9a02-4e87-ac22-97b6699c76c1"
      },
      "execution_count": 8,
      "outputs": [
        {
          "output_type": "stream",
          "name": "stdout",
          "text": [
            "Error: 2003 (HY000): Can't connect to MySQL server on 'localhost:3306' (99)\n",
            "CSV data has been imported into MySQL database successfully.\n"
          ]
        }
      ]
    }
  ]
}